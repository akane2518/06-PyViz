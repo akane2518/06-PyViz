{
 "cells": [
  {
   "cell_type": "code",
   "execution_count": 2,
   "id": "a02c71c6-f76c-436a-834b-569a69cae077",
   "metadata": {},
   "outputs": [],
   "source": [
    "# Initial imports\n",
    "import os\n",
    "import requests\n",
    "import pandas as pd\n",
    "from dotenv import load_dotenv\n",
    "import alpaca_trade_api as tradeapi\n",
    "#from MCForecastTools import MCSimulation\n",
    "import json\n",
    "import warnings\n",
    "\n",
    "\n"
   ]
  },
  {
   "cell_type": "code",
   "execution_count": 3,
   "id": "5b0650e6-e83e-43d0-a8c4-9f33dc157ea9",
   "metadata": {},
   "outputs": [],
   "source": [
    "# Crypto API URLs\n",
    "ch_url = \"https://api.alternative.me/v2/ticker/Chainlink/?convert=CAD\"\n",
    "eth_url = \"https://api.alternative.me/v2/ticker/Solana/?convert=CAD\""
   ]
  },
  {
   "cell_type": "code",
   "execution_count": null,
   "id": "e64b93a5-f422-4318-806a-90df6e08eb04",
   "metadata": {},
   "outputs": [],
   "source": []
  }
 ],
 "metadata": {
  "kernelspec": {
   "display_name": "Python 3 (ipykernel)",
   "language": "python",
   "name": "python3"
  },
  "language_info": {
   "codemirror_mode": {
    "name": "ipython",
    "version": 3
   },
   "file_extension": ".py",
   "mimetype": "text/x-python",
   "name": "python",
   "nbconvert_exporter": "python",
   "pygments_lexer": "ipython3",
   "version": "3.9.12"
  }
 },
 "nbformat": 4,
 "nbformat_minor": 5
}
